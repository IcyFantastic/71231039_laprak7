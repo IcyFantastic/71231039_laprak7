{
 "cells": [
  {
   "cell_type": "markdown",
   "metadata": {},
   "source": [
    "Latihan 7.1"
   ]
  },
  {
   "cell_type": "code",
   "execution_count": 1,
   "metadata": {},
   "outputs": [
    {
     "name": "stdout",
     "output_type": "stream",
     "text": [
      "Kata 'mata' anagram dengan kata 'atma'\n"
     ]
    }
   ],
   "source": [
    "def anagram(kata1, kata2):\n",
    "    set_kata1 = set(kata1)\n",
    "    set_kata2 = set(kata2)\n",
    "    if set_kata1 == set_kata2:\n",
    "        hasil1 = print(f\"Kata '{kata1}' Anagram Dengan Kata '{kata2}'\")\n",
    "        \n",
    "    else:\n",
    "        hasil2 = print(f\"Kata '{kata1}' Tidak Anagram Dengan Kata '{kata2}'\")\n",
    "\n",
    "kata1 = input(\"Masukan Kata Pertama : \")\n",
    "kata2 = input(\"Masukan Kata Kedua : \")\n",
    "anagram(kata1, kata2)"
   ]
  },
  {
   "cell_type": "markdown",
   "metadata": {},
   "source": [
    "Latihan 7.2"
   ]
  },
  {
   "cell_type": "code",
   "execution_count": 9,
   "metadata": {},
   "outputs": [
    {
     "name": "stdout",
     "output_type": "stream",
     "text": [
      "Kalimatnya:  Saya mau makan, makan itu wajib. Mau siang atau malam saya wajib makan\n",
      "Kata \"makan\" Ada 3 Buah\n"
     ]
    }
   ],
   "source": [
    "def kata_berulang(kata):\n",
    "    kata_dihitung = input(\"Masukan Kata Yang Ingin Dihitung: \")\n",
    "    proses = kata.count(kata_dihitung)\n",
    "    print(f'Kata \"{kata_dihitung}\" Ada {proses} Buah')\n",
    "\n",
    "kata = input(\"Masukan Sebuah Kalimat: \")\n",
    "print(\"Kalimatnya: \", kata)\n",
    "kata_berulang(kata)"
   ]
  },
  {
   "cell_type": "markdown",
   "metadata": {},
   "source": [
    "Latihan 7.3"
   ]
  },
  {
   "cell_type": "code",
   "execution_count": 10,
   "metadata": {},
   "outputs": [
    {
     "name": "stdout",
     "output_type": "stream",
     "text": [
      "Kalimatnya:  saya  tidak  suka  memancing  ikan\n",
      "saya tidak suka memancing ikan\n"
     ]
    }
   ],
   "source": [
    "def hapus_spasi(kalimat):\n",
    "    kalimat = kalimat.strip()\n",
    "    while \"  \" in kalimat:\n",
    "        kalimat = kalimat.replace(\"  \", \" \")\n",
    "    return kalimat\n",
    "\n",
    "kalimat_inputan = input(\"Masukan Kalimat: \")\n",
    "print(\"Kalimatnya: \", kalimat_inputan)\n",
    "kalimat_perbaikan = hapus_spasi(kalimat_inputan)\n",
    "print(kalimat_perbaikan)"
   ]
  },
  {
   "cell_type": "markdown",
   "metadata": {},
   "source": [
    "Latihan 7.4"
   ]
  },
  {
   "cell_type": "code",
   "execution_count": 8,
   "metadata": {},
   "outputs": [
    {
     "name": "stdout",
     "output_type": "stream",
     "text": [
      "Kalimatnya:  red snakes and a black frog in the pool\n",
      "Kata Terpendek Adalah 'a' Dan Kata Terpanjang Adalah 'snakes'\n"
     ]
    }
   ],
   "source": [
    "def cek_kalimat(kalimat):\n",
    "    kata = kalimat.split()\n",
    "    pendek = min(kata, key=len)\n",
    "    panjang = max(kata, key=len)\n",
    "    print(f\"Kata Terpendek Adalah '{pendek}' Dan Kata Terpanjang Adalah '{panjang}'\")\n",
    "\n",
    "kalimat = input(\"Masukan kalimat: \")\n",
    "print(\"Kalimatnya: \", kalimat)\n",
    "cek_kalimat(kalimat)"
   ]
  }
 ],
 "metadata": {
  "kernelspec": {
   "display_name": "Python 3",
   "language": "python",
   "name": "python3"
  },
  "language_info": {
   "codemirror_mode": {
    "name": "ipython",
    "version": 3
   },
   "file_extension": ".py",
   "mimetype": "text/x-python",
   "name": "python",
   "nbconvert_exporter": "python",
   "pygments_lexer": "ipython3",
   "version": "3.12.0"
  }
 },
 "nbformat": 4,
 "nbformat_minor": 2
}
